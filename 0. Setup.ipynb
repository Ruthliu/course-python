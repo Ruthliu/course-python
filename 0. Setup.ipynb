{
 "cells": [
  {
   "cell_type": "markdown",
   "metadata": {
    "slideshow": {
     "slide_type": "slide"
    }
   },
   "source": [
    "# 0. Setup and installation"
   ]
  },
  {
   "cell_type": "markdown",
   "metadata": {
    "slideshow": {
     "slide_type": "slide"
    }
   },
   "source": [
    "We will need:\n",
    "* Python\n",
    "* NumPy: Basic operations, linear algebra\n",
    "* SciPy: Basic scientific tools and algorithms\n",
    "* Matplotlib: Plotting\n",
    "* Pandas: Data structures and data manipulation\n",
    "* Scikit-learn: Machine learning\n",
    "* IPython: Interactive shell\n",
    "* Jupyter Notebooks: Literate programming in web browsers"
   ]
  },
  {
   "cell_type": "markdown",
   "metadata": {
    "slideshow": {
     "slide_type": "slide"
    }
   },
   "source": [
    "Installation (at home):\n",
    "* Anaconda: Free Python distribution that includes all major libraries:\n",
    "    * https://docs.continuum.io/anaconda/install\n",
    "    * Run 'python' to start interactive shell\n",
    "    * Run 'jupyter notebook' to start notebooks\n",
    "* Programming environment: PyCharm, Eclipse, or just use notebooks"
   ]
  },
  {
   "cell_type": "markdown",
   "metadata": {
    "slideshow": {
     "slide_type": "slide"
    }
   },
   "source": [
    "Installation (today):\n",
    "* Nothing :)\n",
    "* We offer all materials as notebooks, and host them in the cloud for you\n",
    "* You'll need an account on *github.com* and *openml.org* (if you dont, make one now)\n",
    "* Start here: https://github.com/openml/course-python (bit.ly/2d6TLeb)"
   ]
  }
 ],
 "metadata": {
  "celltoolbar": "Slideshow",
  "kernelspec": {
   "display_name": "Python 3",
   "language": "python",
   "name": "python3"
  },
  "language_info": {
   "codemirror_mode": {
    "name": "ipython",
    "version": 3
   },
   "file_extension": ".py",
   "mimetype": "text/x-python",
   "name": "python",
   "nbconvert_exporter": "python",
   "pygments_lexer": "ipython3",
   "version": "3.5.1"
  }
 },
 "nbformat": 4,
 "nbformat_minor": 0
}
